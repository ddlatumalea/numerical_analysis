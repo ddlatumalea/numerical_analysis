{
 "cells": [
  {
   "cell_type": "markdown",
   "metadata": {},
   "source": [
    "# Data Science 2\n",
    "## Numerical analysis - Root finding\n",
    "\n",
    "The following material is largely covered in Chapter 4 - *Roots of Equations* of the book *Numerical methods in engineering with Python 3* by Jaan Kiusalaas (see BlackBoard)."
   ]
  },
  {
   "cell_type": "code",
   "execution_count": 1,
   "metadata": {},
   "outputs": [],
   "source": [
    "import numpy as np"
   ]
  },
  {
   "cell_type": "markdown",
   "metadata": {},
   "source": [
    "### Introduction\n",
    "\n",
    "A common problem encountered in engineering analysis is as follows: Given a function $f(x)$, determine the values of $x$ for which $f(x) = 0$. The solutions (values of $x$) are known as the *roots* of the equation $f(x) = 0$, or the *zeroes* of the function $f(x)$. Almost *any* equation that requires solving can be written this way by moving the terms on the right hand side of the equation to the left hand side.\n",
    "\n",
    "All methods of finding roots are iterative procedures that require a starting point (i.e., an estimate of the root). This estimate is crucial; a bad starting value may fail to converge, or it may converge to the \"wrong\" root (a root different from the one sought). It is highly advisable to go a step further and *bracket* the root (determine its lower and upper bounds) before passing the problem to a root-finding algorithm."
   ]
  },
  {
   "cell_type": "markdown",
   "metadata": {},
   "source": [
    "### Incremental Search Method\n",
    "\n",
    "The basic idea behind the incremental search method is simple: If $f(x_1)$ and $f(x_2)$ have opposite signs, then there is at least one root in the interval $(x_1, x_2)$. If the interval is small enough, it is likely to contain a single root. Thus the zeros of $f(x)$ can be detected by evaluating the function at intervals $\\Delta x$ and looking for a change in sign.\n",
    "\n",
    "There are several potential problems with the incremental search method:\n",
    "\n",
    "- It is possible to miss two closely spaced roots if the search increment $\\Delta x$ is larger than the spacing of the roots.\n",
    "\n",
    "- A double root (two roots that coincide) will not be detected.\n",
    "\n",
    "- Certain singularities (poles) of $f(x)$ can be mistaken for roots.\n",
    "\n",
    "Below you find a generator function `rootsearch` that divides an interval $(a, b)$ into `steps` equal intervals and then sequentially returns the intervals for which the function values of a function `f` brackets a root based on a change in sign of the function."
   ]
  },
  {
   "cell_type": "code",
   "execution_count": 2,
   "metadata": {},
   "outputs": [],
   "source": [
    "def rootsearch(f, a, b, steps):\n",
    "    \"\"\"lo, hi = rootsearch(f, a, b, steps).\n",
    "    Searches the interval (a,b) in a number of steps for\n",
    "    the bounds (lo,hi) of the roots of f(x).\n",
    "    \"\"\"\n",
    "    h = (b - a) / steps # window width\n",
    "    f_lo = f(a) # first value\n",
    "    for step in range(steps):\n",
    "        lo = a + step * h # \n",
    "        hi = lo + h\n",
    "        f_hi = f(hi)\n",
    "        if f_lo * f_hi <= 0.0:\n",
    "            yield lo, hi\n",
    "        f_lo = f_hi"
   ]
  },
  {
   "cell_type": "markdown",
   "metadata": {},
   "source": [
    "We apply the method to an example where we look for a solution to $\\cos(x) = x$. This is equivalent to finding a root of the function $f(x) = \\cos(x) - x$. The [unique solution](https://www.wolframalpha.com/input/?i=solve+cos%28x%29%3Dx) is $x \\approx 0.7390851332151606416$."
   ]
  },
  {
   "cell_type": "code",
   "execution_count": 3,
   "metadata": {},
   "outputs": [
    {
     "name": "stdout",
     "output_type": "stream",
     "text": [
      "0.72 < 0.7390851332151607 < 0.74\n"
     ]
    },
    {
     "data": {
      "image/png": "[encoded data removed]",
      "text/plain": [
       "<Figure size 432x288 with 1 Axes>"
      ]
     },
     "metadata": {
      "needs_background": "light"
     },
     "output_type": "display_data"
    }
   ],
   "source": [
    "# Example: Solve cos(x) = x\n",
    "from math import sin, cos\n",
    "func = lambda x: cos(x) - x       # the function, for now\n",
    "dfunc = lambda x: -sin(x) - 1.0   # the derivative, for later\n",
    "solution = 0.7390851332151606416\n",
    "\n",
    "for lo, hi in rootsearch(func, 0.0, 1.0, 50):\n",
    "    print(lo, '<', solution, '<', hi)\n",
    "\n",
    "%matplotlib inline\n",
    "import matplotlib.pyplot as plt\n",
    "qx = [i/100.0 for i in range(151)]\n",
    "qy = [cos(x) for x in qx]\n",
    "\n",
    "plt.plot(qx, qx, label='$x$')\n",
    "plt.plot(qx, qy, label='$\\cos(x)$')\n",
    "plt.axvline(x=lo, linewidth=1, color='g'); plt.axvline(x=hi, linewidth=1, color='g')\n",
    "plt.title('$\\cos(x)=x$'); plt.xlabel('$x$'); plt.ylabel('$y$'); plt.axis('square'); plt.legend(); plt.show()"
   ]
  },
  {
   "cell_type": "markdown",
   "metadata": {},
   "source": [
    "### Method of Bisection\n",
    "\n",
    "After a root of $f(x) = 0$ has been bracketed in the interval $(x_1, x_2)$, several methods can be used to close in on it. The [method of bisection](https://en.wikipedia.org/wiki/Bisection_method) accomplishes this by successively halving the interval until it becomes sufficiently small. Once a root has been bracketed, bisection will always close in on it.\n",
    "\n",
    "The method of bisection uses the same principle as incremental search: If there is a root in the interval $(x_1, x_2)$, then $f(x_1)$ and $f(x_2)$ have opposite signs. To halve the interval, we compute $f(x_3)$, where $x_3 = \\frac{1}{2}(x_1+x_2)$ is the midpoint of the interval. If $f(x_2)$ and $f(x_3)$ have opposite signs, then the root must be in $(x_3, x_2)$, and we record this by replacing the original bound $x_1$ by $x_3$. Otherwise, the root lies in $(x_1, x_3)$, in which case $x_2$ is replaced by $x_3$. In either case, the new interval $(x_1, x_2)$ is half the size of the original interval. The bisection is repeated until the interval has been reduced to a small value $\\varepsilon$, so that $\\left| x_2−x_1 \\right| \\leq \\varepsilon$.\n",
    "\n",
    "**Exercise 1**\n",
    "\n",
    "Complete the below function `bisection` that incrementally bisects an interval $(a, b)$ that is known to bracket a root until the size of the interval $\\varepsilon$ becomes smaller than some tolerance `tol` (for which you may choose a suitable default value).\n",
    "\n",
    "Note: Assume that the evaluation of `f` is computationally intensive, so minimize the number of function evaluations (i.e. do not evaluate the function twice for the same argument value)!"
   ]
  },
  {
   "cell_type": "code",
   "execution_count": 4,
   "metadata": {},
   "outputs": [],
   "source": [
    "def bisection(f, a, b, tol=1e-6):\n",
    "    \"\"\"root = bisection(f, a, b, tol=...).\n",
    "    Finds a root of f(x) = 0 by bisection.\n",
    "    The root must be bracketed in (a,b).\n",
    "    \"\"\"\n",
    "    lo, f_lo = a, f(a)\n",
    "    if f_lo == 0.0:\n",
    "        return lo\n",
    "    hi, f_hi = b, f(b)\n",
    "    if f_hi == 0.0:\n",
    "        return hi\n",
    "    if f_lo * f_hi > 0.0:\n",
    "        raise ValueError('Root is not bracketed')\n",
    "    while abs(hi - lo) > tol:\n",
    "        mid = (lo + hi) / 2\n",
    "        if f(mid) * f(hi) <= 0:\n",
    "            lo = mid\n",
    "        else:\n",
    "            hi = mid\n",
    "        \n",
    "    return (lo + hi) / 2.0"
   ]
  },
  {
   "cell_type": "code",
   "execution_count": 5,
   "metadata": {},
   "outputs": [
    {
     "name": "stdout",
     "output_type": "stream",
     "text": [
      "x: 0.7390853881835937 (error= 2.5e-07)\n"
     ]
    }
   ],
   "source": [
    "# Example: Solve cos(x) = x\n",
    "root = bisection(func, lo, hi, 1e-6)\n",
    "print(f'x: {root} (error={abs(root - solution):8.1e})')"
   ]
  },
  {
   "cell_type": "code",
   "execution_count": 6,
   "metadata": {},
   "outputs": [
    {
     "name": "stdout",
     "output_type": "stream",
     "text": [
      "0.7346\n"
     ]
    }
   ],
   "source": [
    "# example\n",
    "f = lambda x: x**3 - 10.0*x**2 + 5.0\n",
    "\n",
    "root = bisection(f, 0.0, 1.0, tol=1.0e-4)\n",
    "print(f'{root:.4f}')"
   ]
  },
  {
   "cell_type": "code",
   "execution_count": 7,
   "metadata": {},
   "outputs": [
    {
     "data": {
      "text/plain": [
       "[<matplotlib.lines.Line2D at 0x20f0fe08100>]"
      ]
     },
     "execution_count": 7,
     "metadata": {},
     "output_type": "execute_result"
    },
    {
     "data": {
      "image/png": "[encoded data removed]",
      "text/plain": [
       "<Figure size 432x288 with 1 Axes>"
      ]
     },
     "metadata": {
      "needs_background": "light"
     },
     "output_type": "display_data"
    }
   ],
   "source": [
    "# combining rootsearch and bisection\n",
    "f = lambda x: x - np.tan(x)\n",
    "\n",
    "xs = np.arange(0, 20, 0.01)\n",
    "\n",
    "plt.plot(xs, f(xs))"
   ]
  },
  {
   "cell_type": "code",
   "execution_count": 8,
   "metadata": {},
   "outputs": [
    {
     "name": "stdout",
     "output_type": "stream",
     "text": [
      "Finding brackets:\n",
      "(0.0, 0.2)\n",
      "(1.4000000000000001, 1.6)\n",
      "(4.4, 4.6000000000000005)\n",
      "(4.6000000000000005, 4.800000000000001)\n",
      "(7.6000000000000005, 7.800000000000001)\n",
      "(7.800000000000001, 8.0)\n",
      "\n",
      "1.5708203125\n",
      "4.493398437500001\n",
      "4.7123828125000005\n",
      "7.725273437499999\n",
      "7.8539453125\n",
      "10.904101562500003\n",
      "10.9955859375\n",
      "14.0662109375\n",
      "14.137148437499999\n",
      "17.2207421875\n",
      "17.278789062500003\n"
     ]
    }
   ],
   "source": [
    "a = 0\n",
    "b = 20\n",
    "\n",
    "print('Finding brackets:')\n",
    "for i in rootsearch(f, a, b, 100):\n",
    "    print(i)\n",
    "\n",
    "print()\n",
    "for x1, x2 in rootsearch(f, a, b, 1000):\n",
    "    root = bisection(f, x1, x2, 1e-4)\n",
    "    \n",
    "    if root:\n",
    "        print(root)\n"
   ]
  },
  {
   "cell_type": "code",
   "execution_count": null,
   "metadata": {},
   "outputs": [],
   "source": []
  },
  {
   "cell_type": "markdown",
   "metadata": {},
   "source": [
    "### Secant Method\n",
    "\n",
    "The [secant method](https://en.wikipedia.org/wiki/Secant_method) and the [false position method](https://en.wikipedia.org/wiki/Regula_falsi) are closely related. Both methods require two starting estimates of the root, say, $x_1$ and $x_2$. The function $f(x)$ is assumed to be approximately linear near the root, so that the improved value $x_3$ of the root can be estimated by linear interpolation between $x_1$ and $x_2$. This leads to\n",
    "\n",
    "$$\n",
    "x_3 = \\frac{f_1 x_2 - f_2 x_1}{f_1 - f_2}\n",
    "$$\n",
    "\n",
    "- The *false position* method (also known as *regula falsi*) requires $x_1$ and $x_2$ to bracket the root. After the improved root is computed, either $x_1$ or $x_2$ is replaced by $x_3$: if $f_3$ has the same sign as $f_1$, we let $x_1 \\leftarrow x_3$; otherwise we choose $x_2 \\leftarrow x_3$. In this manner, the root remains bracketed in $(x_1, x_2)$.\n",
    "\n",
    "- The *secant* method differs from the false position method in two ways: It does not require prior bracketing of the root, and it discards the oldest prior estimate of the root (i.e., after $x_3$ is computed, we let $x_1, x_2 \\leftarrow x_2, x_3)$.\n",
    "\n",
    "Another way of formulating it:\n",
    "\n",
    "$$\n",
    "c = \\frac{f(a) \\cdot b - f(b) \\cdot a}{f(a) - f(b)}\n",
    "$$\n",
    "\n",
    "\n",
    "**Exercise 2**\n",
    "\n",
    "Write a function `secant` that repeatedly applies the interpolation formula and updates the values $x_1$ and $x_2$. Stop when the size of the interval $\\varepsilon$ becomes smaller than some tolerance `tol` (with suitable default). The function should return a single number that forms an estimate of the root.\n",
    "\n",
    "Note: Again, minimize the number of function evaluations!"
   ]
  },
  {
   "cell_type": "code",
   "execution_count": 9,
   "metadata": {},
   "outputs": [],
   "source": [
    "def secant(f, a, b, tol=1e-8):\n",
    "    \"\"\"root = secant(f, a, b, tol=...).\n",
    "    Finds a root of f(x) = 0 by the secant method.\n",
    "    \"\"\"\n",
    "    x1 = a\n",
    "    x2 = b\n",
    "    \n",
    "    f1 = f(x1)\n",
    "    f2 = f(x2)\n",
    "    \n",
    "    if f1 == 0:\n",
    "        return x1\n",
    "    \n",
    "    if f2 == 0:\n",
    "        return x2\n",
    "    \n",
    "    while abs(x2 - x1) > tol:\n",
    "        x3 = (f1*x2 - f2*x1) / (f1 - f2)\n",
    "        f3 = f(x3)\n",
    "        \n",
    "        if f3 == 0:\n",
    "            return x3\n",
    "        \n",
    "        x1, x2 = x2, x3\n",
    "        f1, f2 = f2, f3\n",
    "        \n",
    "    # x3 will be assigned to x2\n",
    "    return x2\n",
    "\n",
    "# this one is the same, but faster :)\n",
    "def _secant(f, a, b, tol=1e-8):\n",
    "    x1 = a\n",
    "    x2 = b\n",
    "    \n",
    "    fx1 = f(a)\n",
    "    fx2 = f(b)\n",
    "    \n",
    "    while abs(x2 - x1) > tol:\n",
    "        x3 = x2 - fx2 * (x2 - x1) / (fx2 - fx1)\n",
    "        fx3 = f(x3)\n",
    "        \n",
    "        x1, x2 = x2, x3\n",
    "        fx1, fx2 = fx2, fx3\n",
    "        \n",
    "    return x2"
   ]
  },
  {
   "cell_type": "code",
   "execution_count": 10,
   "metadata": {},
   "outputs": [
    {
     "name": "stdout",
     "output_type": "stream",
     "text": [
      "4.34 µs ± 343 ns per loop (mean ± std. dev. of 7 runs, 100000 loops each)\n",
      "x: 17.278789062500003 (error= 1.7e+01)\n"
     ]
    }
   ],
   "source": [
    "# Example: Solve cos(x) = x\n",
    "%timeit root = secant(func, lo, hi, 1e-6)\n",
    "print(f'x: {root} (error={abs(root - solution):8.1e})')"
   ]
  },
  {
   "cell_type": "code",
   "execution_count": 11,
   "metadata": {},
   "outputs": [
    {
     "name": "stdout",
     "output_type": "stream",
     "text": [
      "4.41 µs ± 88.8 ns per loop (mean ± std. dev. of 7 runs, 100000 loops each)\n",
      "x: 17.278789062500003 (error= 1.7e+01)\n"
     ]
    }
   ],
   "source": [
    "# Example: Solve cos(x) = x\n",
    "%timeit root = _secant(func, lo, hi, 1e-6)\n",
    "print(f'x: {root} (error={abs(root - solution):8.1e})')"
   ]
  },
  {
   "cell_type": "code",
   "execution_count": 12,
   "metadata": {},
   "outputs": [
    {
     "data": {
      "text/plain": [
       "      converged: True\n",
       "           flag: 'converged'\n",
       " function_calls: 7\n",
       "     iterations: 6\n",
       "           root: 0.7390851332151607"
      ]
     },
     "execution_count": 12,
     "metadata": {},
     "output_type": "execute_result"
    }
   ],
   "source": [
    "from scipy.optimize import root_scalar\n",
    "\n",
    "root_scalar(func, method='secant', bracket=(lo, hi), x0=0, x1=1)"
   ]
  },
  {
   "cell_type": "markdown",
   "metadata": {},
   "source": [
    "### Newton-Raphson Method\n",
    "\n",
    "**note**:\n",
    "- Number of correct decimals double every iteration.\n",
    "\n",
    "The [Newton-Raphson method](https://en.wikipedia.org/wiki/Newton%27s_method) is the best known method of finding roots for a good reason: It is simple and fast. The only drawback of the method is that it uses the derivative $f'(x)$ of the function as well as the function $f(x)$ itself. Therefore, the Newton-Raphson method is usable only in problems where $f'(x)$ can be readily computed.\n",
    "\n",
    "The algorithm for the Newton-Raphson method is simple: it repeatedly applies\n",
    "\n",
    "$$\n",
    "x_{i+1} = x_i - \\frac{f(x_i)}{f'(x_i)}\n",
    "$$\n",
    "\n",
    "starting with an initial value $x_0$, until the convergence criterion $\\left| x_{i+1} − x_i \\right| < \\varepsilon$\n",
    "is reached. Only the latest value of x has to be stored.\n",
    "\n",
    "**Exercise 3**\n",
    "\n",
    "The (positive) square root of two, $\\sqrt{2} \\approx 1.41421$, can be calculated by solving $f(x) = x^2 - 2 = 0$.\n",
    "\n",
    "- Starting from the bracketing interval $(1, 2)$, analytically perform three iterations of the bisection method.\n",
    "\n",
    "- Starting from an initial estimate $x_0 = 1$, analytically perform three iterations of the Newton-Raphson algorithm.\n",
    "\n",
    "Compare the convergence of these methods by completing the following table and checking how many digits of the answers are accurate.\n",
    "\n",
    "| Iteration i | Bisection (a+b)/2                      | Newton-Raphson $x_i$          |\n",
    "| :---------: | :------------------------------------: | :---------------------------: |\n",
    "|      0      | $(1, 2) \\rightarrow 1.5$               | $1 \\rightarrow 1$             |\n",
    "|      1      | $(1, \\frac{3}{2}) \\rightarrow 1.25$    | $\\frac{3}{2} \\rightarrow 1.5$ |\n",
    "|      2      | $(\\ldots, \\ldots) \\rightarrow \\ldots$  | $\\ldots \\rightarrow \\ldots$   |\n",
    "|      3      | $(\\ldots, \\ldots) \\rightarrow \\ldots$  | $\\ldots \\rightarrow \\ldots$   |"
   ]
  },
  {
   "cell_type": "code",
   "execution_count": 13,
   "metadata": {},
   "outputs": [],
   "source": [
    "# -------------#-------------------#--------------------#\n",
    "# Iteration i # Bisection (a+b)/2 # Newton-Raphson x_i #\n",
    "#-------------#-------------------#--------------------#\n",
    "#      0      # (1, 2)   -> 1.5   # 1   -> 1.          #\n",
    "#      1      # (1, 3/2) -> 1.25  # 3/2 -> 1.5         #\n",
    "#      2      # (1.25, 1.5) -> 1.375    # 17/12  -> 1.41666          #\n",
    "#      3      # (1.375, 1.5) -> 1.4375    # 577/408  -> 1.4142156          #\n",
    "#-------------#-------------------#--------------------#"
   ]
  },
  {
   "cell_type": "markdown",
   "metadata": {},
   "source": [
    "Although the Newton-Raphson method converges fast near the root, its global convergence characteristics are poor. However, the method can be made nearly fail-safe by combining it with bisection.\n",
    "\n",
    "**Exercise 4**\n",
    "\n",
    "Write a function `newton_raphson` that repeatedly applies the Newton-Raphson formula to obtain an increasingly better estimate of the root. For a given interval $(a, b)$ that brackets an estimate of the root $x_0$, repeatedly perform Newton-Raphson to improve the estimate of the root. Each time, if the new estimate falls inside the bracket, use it to improve the bracket; if it falls outside, ignore the new estimate and perform bisection instead. Continue until the magnitude of the update according to Newton-Raphson becomes smaller than some tolerance `tol`. The function should return a single number that forms an estimate of the root."
   ]
  },
  {
   "cell_type": "markdown",
   "metadata": {},
   "source": [
    "-------\n",
    "\n",
    "**Bracket**: determine lower and upper bounds of a root.\n",
    "\n",
    "--------"
   ]
  },
  {
   "cell_type": "code",
   "execution_count": 14,
   "metadata": {},
   "outputs": [],
   "source": [
    "import numpy as np\n",
    "\n",
    "def newton_raphson(f, df, a, b, tol=1e-4):\n",
    "    \"\"\"Just the newton raphson\"\"\"\n",
    "    # newton raphson\n",
    "    prev = -np.inf\n",
    "    current = 1\n",
    "    while np.abs(current - prev) > tol:\n",
    "        prev = current\n",
    "        current = prev - (f(prev) / df(prev))\n",
    "        \n",
    "        if current == 0:\n",
    "            return current\n",
    "        \n",
    "    \n",
    "    return current"
   ]
  },
  {
   "cell_type": "code",
   "execution_count": 15,
   "metadata": {},
   "outputs": [],
   "source": [
    "# Implementation of Dave Langers\n",
    "\n",
    "def newton_raphson(f, df, a, b, tol=1e-8):\n",
    "    x0 = (a + b) / 2\n",
    "    f0 = f(x0)\n",
    "    df0 = df(x0)\n",
    "    while True:\n",
    "        delta = f0 / df0\n",
    "        x1 = x0 - delta\n",
    "        \n",
    "        if np.abs(delta) < tol:\n",
    "            return x1\n",
    "        \n",
    "        x0 = x1\n",
    "        f0 = f(x0)\n",
    "        df0 = df(x0)"
   ]
  },
  {
   "cell_type": "code",
   "execution_count": 16,
   "metadata": {},
   "outputs": [],
   "source": [
    "def newton_raphson(f, df, a, b, tol=1e-4):\n",
    "    \"\"\"root = newton_raphson(f, df, a, b, tol=....).\n",
    "    Finds a root of f(x) = 0 by combining the Newton-Raphson\n",
    "    method with bisection. The root must be bracketed in (a,b).\n",
    "    Calls user-supplied functions f(x) and its derivative df(x).\n",
    "    \"\"\"\n",
    "    from numpy import sign\n",
    "    \n",
    "    fa = f(a)\n",
    "    if fa == 0.0: return a\n",
    "    fb = f(b)\n",
    "    if fb == 0.0: return b\n",
    "    \n",
    "#     if sign(fa) == sign(fb): raise ValueError('root is not bracketed')\n",
    "        \n",
    "    x = 0.5 * (a + b)\n",
    "    \n",
    "    while True:\n",
    "        fx = f(x)\n",
    "        if fx == 0.0: return x\n",
    "        \n",
    "        # tighten the brackets on the root\n",
    "        if sign(fa) != sign(fx): b = x\n",
    "        else: a = x\n",
    "            \n",
    "        # try a newton-raphson step\n",
    "        dfx = df(x)\n",
    "        \n",
    "        # if division by zero, push x out of bounts\n",
    "        try:\n",
    "            dx = -fx/dfx\n",
    "        except ZeroDivisionError:\n",
    "            dx = b - a\n",
    "            \n",
    "        x = x + dx\n",
    "        \n",
    "        # if the result is outside the brackets, use bisections\n",
    "        if (b - x)*(x - a) < 0.0:\n",
    "            dx = 0.5 * (b - a)\n",
    "            x = a + dx\n",
    "            \n",
    "        # check for convergence\n",
    "        if abs(dx) < tol*max(abs(b), 1.0):\n",
    "            return x"
   ]
  },
  {
   "cell_type": "code",
   "execution_count": 17,
   "metadata": {},
   "outputs": [
    {
     "data": {
      "text/plain": [
       "<matplotlib.lines.Line2D at 0x20f1078dcd0>"
      ]
     },
     "execution_count": 17,
     "metadata": {},
     "output_type": "execute_result"
    },
    {
     "data": {
      "image/png": "[encoded data removed]",
      "text/plain": [
       "<Figure size 432x288 with 1 Axes>"
      ]
     },
     "metadata": {
      "needs_background": "light"
     },
     "output_type": "display_data"
    }
   ],
   "source": [
    "f = lambda x: x**2 - 2\n",
    "df = lambda x: 2*x\n",
    "\n",
    "xs = np.linspace(-10, 10, 101)\n",
    "plt.plot(xs, f(xs))\n",
    "\n",
    "roots = []\n",
    "for lo, hi in rootsearch(f, -10, 10, 100):\n",
    "    roots.append(newton_raphson(f, df, lo, hi))\n",
    "    \n",
    "plt.plot(roots, [f(root) for root in roots], 'or')\n",
    "plt.axhline(0.0, color='black', lw=0.8)"
   ]
  },
  {
   "cell_type": "code",
   "execution_count": 18,
   "metadata": {},
   "outputs": [
    {
     "name": "stdout",
     "output_type": "stream",
     "text": [
      "x: 1.5999023437500002 (error= 8.6e-01)\n"
     ]
    }
   ],
   "source": [
    "# Example: Solve cos(x) = x\n",
    "root = newton_raphson(func, dfunc, lo, hi, 1e-4)\n",
    "print(f'x: {root} (error={abs(root - solution):8.1e})')"
   ]
  },
  {
   "cell_type": "markdown",
   "metadata": {},
   "source": [
    "### Exercises\n",
    "\n",
    "**Exercise 5**\n",
    "\n",
    "Determine *all* roots of the polynomial [equation](https://www.wolframalpha.com/input/?i=x%5E3%E2%88%923.23x%5E2%E2%88%925.54x%2B9.84%3D0) $x^3 − 3.23 x^2 − 5.54 x + 9.84 = 0$ to at least nine correct decimals using an algorithm of your own choice."
   ]
  },
  {
   "cell_type": "code",
   "execution_count": 19,
   "metadata": {},
   "outputs": [
    {
     "name": "stdout",
     "output_type": "stream",
     "text": [
      "-2.000000000\n",
      "1.230000000\n",
      "4.000000000\n"
     ]
    }
   ],
   "source": [
    "f = lambda x: x**3 - 3.23*x**2 - 5.54 * x + 9.84\n",
    "\n",
    "xs = np.arange(-20, 20, 1)\n",
    "\n",
    "for a, b in rootsearch(f, -2.5, 4.5, 1000):\n",
    "    root = _secant(f, a, b, tol=1e-8)\n",
    "    print('{:.9f}'.format(root))"
   ]
  },
  {
   "cell_type": "code",
   "execution_count": 20,
   "metadata": {},
   "outputs": [
    {
     "data": {
      "text/plain": [
       "<matplotlib.lines.Line2D at 0x20f1080dc10>"
      ]
     },
     "execution_count": 20,
     "metadata": {},
     "output_type": "execute_result"
    },
    {
     "data": {
      "image/png": "[encoded data removed]",
      "text/plain": [
       "<Figure size 432x288 with 1 Axes>"
      ]
     },
     "metadata": {
      "needs_background": "light"
     },
     "output_type": "display_data"
    }
   ],
   "source": [
    "f = lambda x: x**3 - 3.23*x**2 - 5.54 * x + 9.84\n",
    "xs = np.linspace(-2.5, 4.5, 100)\n",
    "\n",
    "plt.plot(xs, f(xs))\n",
    "\n",
    "for i in rootsearch(f, 0, 1, 100):\n",
    "    print(i)\n",
    "    \n",
    "plt.grid()\n",
    "plt.axhline(0.0, color='black', lw=0.5)\n",
    "plt.axvline(0.0, color='black', lw=0.5)"
   ]
  },
  {
   "cell_type": "markdown",
   "metadata": {},
   "source": [
    "**Exercise 6**\n",
    "\n",
    "The [golden ratio](https://www.wikiwand.com/en/Golden_ratio) $\\phi$ is a number that is often referred to in art, but that also occurs in nature. Among other things, it has the property that it equals the average of its square and its inverse, i.e. $\\phi = \\frac{\\phi^2+1/\\phi}{2}$. Note that this equation has three solutions, only one of which is the golden ratio.\n",
    "\n",
    "Determine the value of the golden ratio by solving the aforementioned equation to twelve digits accuracy. Compare the output of your own `secant()` and `newton_raphson()` methods to that of the [newton](https://docs.scipy.org/doc/scipy/reference/generated/scipy.optimize.newton.html) method of the `scipi.optimize` module, which can be used to execute either method by providing a derivative function or not."
   ]
  },
  {
   "cell_type": "code",
   "execution_count": 21,
   "metadata": {},
   "outputs": [],
   "source": [
    "from scipy.constants import golden\n",
    "from scipy.optimize import newton\n",
    "from sympy import Symbol, diff"
   ]
  },
  {
   "cell_type": "code",
   "execution_count": 22,
   "metadata": {},
   "outputs": [
    {
     "data": {
      "text/latex": [
       "$\\displaystyle x - 1 - \\frac{1}{2 x^{2}}$"
      ],
      "text/plain": [
       "x - 1 - 1/(2*x**2)"
      ]
     },
     "execution_count": 22,
     "metadata": {},
     "output_type": "execute_result"
    }
   ],
   "source": [
    "x = Symbol('x')\n",
    "expr = (x**2 + 1/x) / 2 - x\n",
    "df = diff(expr)\n",
    "df"
   ]
  },
  {
   "cell_type": "code",
   "execution_count": 23,
   "metadata": {},
   "outputs": [
    {
     "data": {
      "image/png": "[encoded data removed]",
      "text/plain": [
       "<Figure size 432x288 with 1 Axes>"
      ]
     },
     "metadata": {
      "needs_background": "light"
     },
     "output_type": "display_data"
    }
   ],
   "source": [
    "f = lambda x: (x**2 + 1/x) / 2 - x\n",
    "df = lambda x: x - 1 - 1 / (2*x**2)\n",
    "\n",
    "xs = np.linspace(0.1, 5, 101)\n",
    "\n",
    "plt.plot(xs, f(xs))\n",
    "plt.axhline(0.0, color='black', lw=0.5)\n",
    "plt.grid()\n",
    "\n",
    "plt.show()"
   ]
  },
  {
   "cell_type": "code",
   "execution_count": 24,
   "metadata": {},
   "outputs": [
    {
     "data": {
      "text/plain": [
       "1.618033988749895"
      ]
     },
     "execution_count": 24,
     "metadata": {},
     "output_type": "execute_result"
    }
   ],
   "source": [
    "golden"
   ]
  },
  {
   "cell_type": "code",
   "execution_count": 25,
   "metadata": {},
   "outputs": [
    {
     "name": "stdout",
     "output_type": "stream",
     "text": [
      "1.000000000000\n",
      "1.618033988750\n",
      "\n",
      "Last answer contains phi in this setup: \n",
      "secant:\t\t 1.618033988750\n",
      "scipy newton:\t 1.618033988750\n",
      "my newton:\t 1.618033988750\n"
     ]
    }
   ],
   "source": [
    "for a, b in rootsearch(f, 0.5, 2, 1000):\n",
    "    root = _secant(f, a, b, tol=1e-8)\n",
    "    sp_newt = newton(f, a, fprime=df)\n",
    "    newt = newton_raphson(f, df, a, b, tol=1e-8)\n",
    "    print('{:.12f}'.format(sp_newt))\n",
    "    \n",
    "print('\\nLast answer contains phi in this setup: ')\n",
    "print(f'secant:\\t\\t {root:.12f}')\n",
    "print(f'scipy newton:\\t {sp_newt:.12f}')\n",
    "print(f'my newton:\\t {newt:.12f}')"
   ]
  },
  {
   "cell_type": "markdown",
   "metadata": {},
   "source": [
    "**Exercise 7**\n",
    "\n",
    "A solution of the [equation](https://www.wolframalpha.com/input/?i=plot+tan%28x%29%3Dtanh%28x%29+from+0+to+12) $\\tan(x) = \\tanh(x)$ lies in $(7.0, 7.4)$. Find this solution with at least six decimal place accuracy using the various methods from this lesson. (If necessary, look up the derivatives of these functions online.)"
   ]
  },
  {
   "cell_type": "code",
   "execution_count": 26,
   "metadata": {},
   "outputs": [
    {
     "data": {
      "text/plain": [
       "[<matplotlib.lines.Line2D at 0x20f12c81970>]"
      ]
     },
     "execution_count": 26,
     "metadata": {},
     "output_type": "execute_result"
    },
    {
     "data": {
      "image/png": "[encoded data removed]",
      "text/plain": [
       "<Figure size 432x288 with 1 Axes>"
      ]
     },
     "metadata": {
      "needs_background": "light"
     },
     "output_type": "display_data"
    }
   ],
   "source": [
    "xs = np.linspace(7, 7.4)\n",
    "\n",
    "plt.plot(xs, np.tan(xs))\n",
    "plt.plot(xs, np.tanh(xs))"
   ]
  },
  {
   "cell_type": "code",
   "execution_count": 27,
   "metadata": {},
   "outputs": [
    {
     "data": {
      "text/plain": [
       "[<matplotlib.lines.Line2D at 0x20f12beb730>]"
      ]
     },
     "execution_count": 27,
     "metadata": {},
     "output_type": "execute_result"
    },
    {
     "data": {
      "image/png": "[encoded data removed]",
      "text/plain": [
       "<Figure size 432x288 with 1 Axes>"
      ]
     },
     "metadata": {
      "needs_background": "light"
     },
     "output_type": "display_data"
    }
   ],
   "source": [
    "plt.plot(xs, np.tan(xs) -  np.tanh(xs))"
   ]
  },
  {
   "cell_type": "code",
   "execution_count": 28,
   "metadata": {},
   "outputs": [
    {
     "data": {
      "text/latex": [
       "$\\displaystyle \\tan^{2}{\\left(x \\right)} + \\tanh^{2}{\\left(x \\right)}$"
      ],
      "text/plain": [
       "tan(x)**2 + tanh(x)**2"
      ]
     },
     "execution_count": 28,
     "metadata": {},
     "output_type": "execute_result"
    }
   ],
   "source": [
    "from sympy import Symbol, diff, tan, tanh\n",
    "\n",
    "f = lambda x: np.tan(x) - np.tanh(x)\n",
    "\n",
    "x = Symbol('x')\n",
    "expr = tan(x) - tanh(x)\n",
    "dx = diff(expr)\n",
    "dx"
   ]
  },
  {
   "cell_type": "code",
   "execution_count": 29,
   "metadata": {},
   "outputs": [
    {
     "name": "stdout",
     "output_type": "stream",
     "text": [
      "Bisection: \t7.068583\n",
      "Secant: \t7.068583\n",
      "Newton-Raphson:\t7.068583\n"
     ]
    }
   ],
   "source": [
    "f = lambda x: np.tan(x) - np.tanh(x)\n",
    "df = lambda x: np.tan(x)**2 + np.tanh(x)**2\n",
    "\n",
    "a = 7\n",
    "b = 7.4\n",
    "\n",
    "bisect = bisection(f, a, b, tol=1e-6)\n",
    "sec = secant(f, a, b, tol=1e-6)\n",
    "newt_raph = newton_raphson(f, df, a, b, tol=1e-6)\n",
    "\n",
    "print('Bisection: \\t{:.6f}'.format(bisect))\n",
    "print('Secant: \\t{:.6f}'.format(sec))\n",
    "print('Newton-Raphson:\\t{:.6f}'.format(newt_raph))"
   ]
  },
  {
   "cell_type": "markdown",
   "metadata": {},
   "source": [
    "**Exercise 8**\n",
    "\n",
    "The [Omega constant](https://en.wikipedia.org/wiki/Omega_constant) is defined as the unique value $\\Omega$ that satisfies $\\Omega e^\\Omega = 1$. Calculate the value of this constant to 12 decimals using root finding with Newton-Raphson's method. (See e.g. [this YouTube video](https://www.youtube.com/watch?v=EjUp_5X6io4).)"
   ]
  },
  {
   "cell_type": "code",
   "execution_count": 30,
   "metadata": {},
   "outputs": [
    {
     "name": "stdout",
     "output_type": "stream",
     "text": [
      "Newton-Raphson: 0.567143290410\n"
     ]
    }
   ],
   "source": [
    "# omega can be found with the following formula: xe**x - 1 = 0, this is just be replacing omega with x, and\n",
    "# making the equation equal to 0.\n",
    "f = lambda x: x * np.exp(x) - 1\n",
    "df = lambda x: x * np.exp(x) + np.exp(x)\n",
    "\n",
    "a = 0\n",
    "b = 1\n",
    "\n",
    "newt_raph = newton_raphson(f, df, a, b, tol=1e-12)\n",
    "\n",
    "print('Newton-Raphson: {:.12f}'.format(newt_raph))"
   ]
  },
  {
   "cell_type": "markdown",
   "metadata": {},
   "source": [
    "***"
   ]
  }
 ],
 "metadata": {
  "kernelspec": {
   "display_name": "Python 3 (ipykernel)",
   "language": "python",
   "name": "python3"
  },
  "language_info": {
   "codemirror_mode": {
    "name": "ipython",
    "version": 3
   },
   "file_extension": ".py",
   "mimetype": "text/x-python",
   "name": "python",
   "nbconvert_exporter": "python",
   "pygments_lexer": "ipython3",
   "version": "3.9.7"
  }
 },
 "nbformat": 4,
 "nbformat_minor": 2
}
