{
 "cells": [
  {
   "cell_type": "markdown",
   "id": "5cf0d572",
   "metadata": {},
   "source": [
    "# 5. Numerical Differentiation\n",
    "Problem statement: we are given the function $y=f(x)$ and wish to obtain one of its derivatives at the point $x=x_k$. There is access to a finite number of $(x, y)$ data pairs from which to compute the derivative.\n",
    "\n",
    "The relation between numerical differentiation and interpolation: a means of finding the derivative is to approximate the functin locally by a polynomial and then to differentiate it. \n",
    "\n",
    "Downsides:\n",
    "- Suffers from a conflict between roundoff errors and errors inherent in interpolation."
   ]
  },
  {
   "cell_type": "markdown",
   "id": "acdb42ba",
   "metadata": {},
   "source": [
    "**Taylor series expension of $f(x)$**"
   ]
  },
  {
   "cell_type": "code",
   "execution_count": null,
   "id": "724dc515",
   "metadata": {},
   "outputs": [],
   "source": []
  }
 ],
 "metadata": {
  "kernelspec": {
   "display_name": "Python 3 (ipykernel)",
   "language": "python",
   "name": "python3"
  },
  "language_info": {
   "codemirror_mode": {
    "name": "ipython",
    "version": 3
   },
   "file_extension": ".py",
   "mimetype": "text/x-python",
   "name": "python",
   "nbconvert_exporter": "python",
   "pygments_lexer": "ipython3",
   "version": "3.9.7"
  }
 },
 "nbformat": 4,
 "nbformat_minor": 5
}
