{
 "cells": [
  {
   "cell_type": "markdown",
   "id": "baa4dd04",
   "metadata": {},
   "source": [
    "# Errors\n",
    "\n",
    "Precaustions for roundoff and truncation errors:\n",
    "- Double precision: better aproximation due to having more bits.\n",
    "- Employ formulas that are accurate to atleast $O(h^2)$.\n",
    "\n",
    "Extra precision to decrease roundoff errors."
   ]
  },
  {
   "cell_type": "markdown",
   "id": "81be7e10",
   "metadata": {},
   "source": [
    "# Numerical integration\n",
    "\n",
    "Methods can be divided into two groups:\n",
    "- Newton-Cotes formulas\n",
    "    - characterized by equally spaced abscissas.\n",
    "    - most useful if $f(x)$ has already been computed at equal intervals.\n",
    "    - based on local interpolation, they require only a piecewise fit to a polynomial.\n",
    "    - good if costs of $f(x)$ are low.\n",
    "- Gaussian quadrature\n",
    "    - locations of abscissas chosen to yield best possible accuracy.\n",
    "    - popular if $f(x)$ is expensive to evaluate."
   ]
  },
  {
   "cell_type": "markdown",
   "id": "d458b823",
   "metadata": {},
   "source": [
    "# Root finding\n",
    "Given a function $f(x)$, determine the values of $x$ for which $f(x)=0$.\n",
    "\n",
    "The solutions are known as the roots of $f(x)=0$.\n",
    "\n",
    "Problems with incremental search method:\n",
    "- It is possible to miss two closely spaced roots if the search incremented $\\Delta x$ is larger than the spacing of the roots.\n",
    "- A double root (two roots that coincide) will not be detected\n",
    "- Certain singularities of $f(x)$ can be mistaken for roots. This can happen for $f(x)=tan(x)$ because it changes sign at $x=±\\frac{1}{2}n\\pi, n=1, 3, 5, ...$ However, they are not true zeroes, because the function does not cross the x-axis.\n",
    "\n",
    "Incremental search:\n",
    "- To obtain four-digit accuracy, we need a search increment no bigger than $\\Delta x = 0.0001$\n",
    "\n",
    "bisection:\n",
    "- optimal number of bisection:\n",
    "\n",
    "$$\n",
    "n = \\frac{ln(\\Delta x / \\epsilon)}{ln2}\n",
    "$$\n",
    "\n",
    "if tol $= 1.0e-4$, then $\\epsilon = 0.0001$.\n",
    "\n",
    "$$\n",
    "n = \\frac{ln(\\Delta x / \\epsilon)}{ln2} = \\frac{ln(1.0/0.0001}{ln2} = 13.29\n",
    "$$\n",
    "\n",
    "For a function that is not susceptible to singularities. See book page 150.\n",
    "\n",
    "Secant method vs false position method:\n",
    "- Does nto require prior bracketing\n",
    "- Discards oldest prior estimate of root."
   ]
  },
  {
   "cell_type": "markdown",
   "id": "290a7543",
   "metadata": {},
   "source": [
    "# Optimization\n",
    "Minimizing or maximizing a function.\n",
    "\n",
    "You can only consider minimizing, because maximization is done by minimizing $-F(x)$.\n",
    "\n"
   ]
  },
  {
   "cell_type": "markdown",
   "id": "de2b365e",
   "metadata": {},
   "source": [
    "# Initial value problems\n",
    "A *n*th order method would use the truncated Taylor series, where *O(h$^n$)*"
   ]
  },
  {
   "cell_type": "code",
   "execution_count": 8,
   "id": "80ba3c5c",
   "metadata": {},
   "outputs": [],
   "source": [
    "# vector proof\n",
    "\n",
    "import numpy as np\n",
    "import matplotlib.pyplot as plt\n",
    "\n",
    "def euler(F, x, y, xStop, h):\n",
    "    X = []\n",
    "    Y = []\n",
    "    X.append(x)\n",
    "    Y.append(y)\n",
    "    \n",
    "    while x < xStop:\n",
    "        h = min(h, xStop - x)\n",
    "        y = y + h*F(x, y)\n",
    "        x = x + h\n",
    "        X.append(x)\n",
    "        Y.append(y)\n",
    "        \n",
    "    return np.array(X), np.array(Y)"
   ]
  },
  {
   "cell_type": "code",
   "execution_count": 5,
   "id": "142484f5",
   "metadata": {},
   "outputs": [],
   "source": [
    "def F(x, y):\n",
    "    F = np.zeros(2)\n",
    "    F[0] = y[1]\n",
    "    F[1] = -0.1*y[1] - x\n",
    "    return F"
   ]
  },
  {
   "cell_type": "code",
   "execution_count": 7,
   "id": "db10c132",
   "metadata": {},
   "outputs": [],
   "source": [
    "x0 = 0.0\n",
    "x1 = 2.0\n",
    "y0 = np.array([0.0, 1.0])\n",
    "h = 0.05\n",
    "\n",
    "xs, ys = euler(F, x0, y0, x1, h)"
   ]
  },
  {
   "cell_type": "code",
   "execution_count": 10,
   "id": "f2cbc95e",
   "metadata": {},
   "outputs": [
    {
     "data": {
      "text/plain": [
       "[<matplotlib.lines.Line2D at 0x7feb019a7df0>]"
      ]
     },
     "execution_count": 10,
     "metadata": {},
     "output_type": "execute_result"
    },
    {
     "data": {
      "image/png": "[encoded data removed]",
      "text/plain": [
       "<Figure size 432x288 with 1 Axes>"
      ]
     },
     "metadata": {
      "needs_background": "light"
     },
     "output_type": "display_data"
    }
   ],
   "source": [
    "plt.plot(xs, ys[:, 0])"
   ]
  },
  {
   "cell_type": "code",
   "execution_count": null,
   "id": "f1b671c2",
   "metadata": {},
   "outputs": [],
   "source": []
  }
 ],
 "metadata": {
  "kernelspec": {
   "display_name": "Python 3 (ipykernel)",
   "language": "python",
   "name": "python3"
  },
  "language_info": {
   "codemirror_mode": {
    "name": "ipython",
    "version": 3
   },
   "file_extension": ".py",
   "mimetype": "text/x-python",
   "name": "python",
   "nbconvert_exporter": "python",
   "pygments_lexer": "ipython3",
   "version": "3.9.7"
  }
 },
 "nbformat": 4,
 "nbformat_minor": 5
}
