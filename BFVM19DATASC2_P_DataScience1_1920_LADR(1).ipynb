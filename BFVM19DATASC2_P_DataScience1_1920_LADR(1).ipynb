{
 "cells": [
  {
   "cell_type": "markdown",
   "metadata": {},
   "source": [
    "# Data Science 2 (modeling)\n",
    "\n",
    "## Computer-exam BFVM19DATASC2 '19-'20 (practice)\n",
    "\n",
    "**Teachers:**\n",
    "\n",
    "* Graph theory: Martijn Herber (HEMI)\n",
    "\n",
    "* Numerical analysis: Dave Langers (LADR)\n",
    "\n",
    "* Multivariate data analysis: Tsjerk Wassenaar (WATS)\n",
    "\n",
    "**Files:**\n",
    "\n",
    "* *None*\n",
    "\n",
    "**Supplementary materials:**\n",
    "\n",
    "* Graph theory: -\n",
    "\n",
    "* Numerical analysis: Jupyter notebooks, book chapters\n",
    "\n",
    "* Multivariate data analysis: -\n",
    "\n",
    "All notes, textbooks and other written reference materials are permitted.\n",
    "\n",
    "**Instructions:**\n",
    "\n",
    "On your computer desktop you will find all data files and supplementary materials, as well as the submit script `submit_your_work`. First fill in your name and student number below:"
   ]
  },
  {
   "cell_type": "code",
   "execution_count": 1,
   "metadata": {},
   "outputs": [],
   "source": [
    "# YOUR NAME:   Djakim Latumalea\n",
    "# YOUR ST.NR.: 345419"
   ]
  },
  {
   "cell_type": "markdown",
   "metadata": {},
   "source": [
    "This exam consists of three parts that can in principle be answered separately. Provide your answers in the code cells corresponding with each of the questions below. For those questions that require a textual answer rather than python code, you may either type your answer in the cell using a python comment or you may write your answer on paper (in that case, write `# SEE PAPER` in the code cell).\n",
    "\n",
    "<div class=\"alert alert-warning\">\n",
    "<img src=\"attachment:exclamation_icon.png\" align=\"right\"/>\n",
    "<b>After finishing:</b>\n",
    "<ol><li>\n",
    "Rename your notebook with your name and student number, like `JohnDoe_123456`, using the menu option `File` > `Rename`.\n",
    "</li><li>\n",
    "Evaluate the notebook by means of the menu option `Kernel` > `Restart & Run All` and check that your notebook runs without errors.\n",
    "</li><li>\n",
    "Save the evaluated notebook using the menu option `File` > `Save and Checkpoint`.\n",
    "</li><li>\n",
    "Export your notebook as an HTML-file using the menu option `File` > `Download as` > `HTML (.html)` > `Save`, and move the downloaded file from the `Downloads` to the `Desktop` folder.\n",
    "</li><li>\n",
    "Open a terminal, change to the desktop folder using `cd ~/Desktop`, and type `submit_your_work --help` to get help on submit script usage.\n",
    "</li><li>\n",
    "Submit both your `*.ipynb` and `*.html` file together.\n",
    "</li><li>\n",
    "If you gave written answers on paper, write your name and student number on the form and hand it in.\n",
    "</li></ol>\n",
    "</div>\n",
    "\n",
    "All questions have the possible number of points to be scored indicated. Your grade will be calculated as follows:\n",
    "\n",
    "$$\n",
    "\\text{Grade} = 1 + 9 \\cdot \\frac {\\text{Points Scored}} {\\text{Maximum Score}}\n",
    "$$"
   ]
  },
  {
   "cell_type": "markdown",
   "metadata": {},
   "source": [
    "***\n",
    "\n",
    "## Part I: Graph theory\n",
    "\n",
    "<small>Each question in this section is worth 5 points.</small>"
   ]
  },
  {
   "cell_type": "markdown",
   "metadata": {},
   "source": [
    "#### Question 1a\n",
    "\n",
    "Bla bla bla"
   ]
  },
  {
   "cell_type": "code",
   "execution_count": null,
   "metadata": {},
   "outputs": [],
   "source": []
  },
  {
   "cell_type": "markdown",
   "metadata": {},
   "source": [
    "***\n",
    "\n",
    "## Part II: Numerical analysis\n",
    "\n",
    "<small>Each question in this section is worth 5 points.</small>"
   ]
  },
  {
   "cell_type": "code",
   "execution_count": 2,
   "metadata": {},
   "outputs": [],
   "source": [
    "%matplotlib inline\n",
    "import matplotlib.pyplot as plt\n",
    "import numpy as np"
   ]
  },
  {
   "cell_type": "markdown",
   "metadata": {},
   "source": [
    "#### Question 1a\n",
    "\n",
    "Use Romberg integration to calculate the integral\n",
    "\n",
    "$$\n",
    "\\int_{-1}^{+1} \\left( 2 - x^2 \\right) \\text{d}x\n",
    "$$\n",
    "\n",
    "by hand. Perform two iterations and report the exact values of the approximants $R_{0,0}$ and $R_{1,0}$ as well as the final result $R_{1,1}$ in the form of an integer or fraction."
   ]
  },
  {
   "cell_type": "code",
   "execution_count": 3,
   "metadata": {},
   "outputs": [],
   "source": [
    "R00 = 2\n",
    "R10 = 3\n",
    "R11 = 10/3"
   ]
  },
  {
   "cell_type": "markdown",
   "metadata": {},
   "source": [
    "#### Question 1b\n",
    "\n",
    "The gamma-function $\\Gamma(x)$ is defined in the `scipy.special` module, as plotted below. It is closely related to the factorial, since for nonnegative integers $n$ the following relation holds: $\\Gamma(n+1) = n!$; however, $\\Gamma(x)$ is also defined for other real (or complex) values $x$.\n",
    "\n",
    "Use numeric differentiation to compute the first- and second-order derivatives $\\Gamma'(x)$ and $\\Gamma''(x)$ at $x=1$ with an accuracy of at least four decimals."
   ]
  },
  {
   "cell_type": "code",
   "execution_count": 4,
   "metadata": {},
   "outputs": [
    {
     "data": {
      "image/png": "[encoded data removed]",
      "text/plain": [
       "<Figure size 432x288 with 1 Axes>"
      ]
     },
     "metadata": {
      "needs_background": "light"
     },
     "output_type": "display_data"
    }
   ],
   "source": [
    "from scipy.special import gamma\n",
    "xs = np.linspace(-3.5, 4.5, 401)\n",
    "plt.plot(xs, gamma(xs), '-', 1.0, gamma(1.0), 'o')\n",
    "plt.axis([-3.5, 4.5, -6.0, 6.0]); plt.axhline(0.0, color='k', linewidth=.5); plt.axvline(0.0, color='k', linewidth=.5)\n",
    "plt.title('$\\Gamma(x)$'); plt.xlabel('$x$'); plt.ylabel('$y$'); plt.show()"
   ]
  },
  {
   "cell_type": "code",
   "execution_count": 5,
   "metadata": {},
   "outputs": [],
   "source": [
    "from scipy.misc import derivative"
   ]
  },
  {
   "cell_type": "code",
   "execution_count": 6,
   "metadata": {},
   "outputs": [
    {
     "name": "stdout",
     "output_type": "stream",
     "text": [
      "Gamma(1) order 1: -0.5772\n",
      "Gamma(1) order 2: 1.9781\n"
     ]
    }
   ],
   "source": [
    "dx1 = derivative(gamma, 1, dx=1e-4, n=1)\n",
    "dx2 = derivative(gamma, 1, dx=1e-4, n=2)\n",
    "\n",
    "print('Gamma(1) order 1: {:.4f}'.format(dx1))\n",
    "print('Gamma(1) order 2: {:.4f}'.format(dx2))"
   ]
  },
  {
   "cell_type": "code",
   "execution_count": 7,
   "metadata": {},
   "outputs": [
    {
     "name": "stdout",
     "output_type": "stream",
     "text": [
      "-0.5772156739780598\n",
      "1.978111985323494\n"
     ]
    }
   ],
   "source": [
    "def forward_derivative(f, x, h=1000):\n",
    "    \"\"\"df = forward_derivative(f, x, h).\n",
    "    Calculates the forward difference approximation of the\n",
    "    function f(x).\n",
    "    \"\"\"\n",
    "    df = (f(x + h) - f(x)) / h\n",
    "    return df\n",
    "\n",
    "def backward_derivative(f, x, h=1000):\n",
    "    \"\"\"df = forward_derivative(f, x, h).\n",
    "    Calculates the backward difference approximation of the\n",
    "    function f(x).\n",
    "    \"\"\"\n",
    "    df = (f(x) - f(x - h)) / h\n",
    "    return df\n",
    "\n",
    "def central_derivative(f, x, h=1000):\n",
    "    \"\"\"df = central_derivative(f, x, h).\n",
    "    Calculates the central difference approximation of the\n",
    "    function f(x).\n",
    "    \"\"\"\n",
    "    df = (f(x + h) - f(x - h)) / (2 * h)\n",
    "    return df\n",
    "\n",
    "def central_derivative2(f, x, h=1000):\n",
    "    \"\"\"df = central_derivative2(f, x, h).\n",
    "    Calculates the second-order derivative of the\n",
    "    function f(x).\n",
    "    \"\"\"\n",
    "    ddf = (f(x+h) - 2*f(x) + f(x-h)) / h**2\n",
    "    return ddf\n",
    "\n",
    "print(central_derivative(gamma, 1, h=1e-4))\n",
    "print(central_derivative2(gamma, 1, h=1e-4))"
   ]
  },
  {
   "cell_type": "markdown",
   "metadata": {},
   "source": [
    "#### Question 1c\n",
    "\n",
    "The *Midpoint method* is an algorithm from the Runge-Kutta family that shares the first two formulas with the Runge-Kutta method itself:\n",
    "\n",
    "$$\n",
    "\\begin{aligned}\n",
    "\\boldsymbol{k}_0 &= h \\cdot \\boldsymbol{f}(x, \\boldsymbol{y}(x))\n",
    "\\\\\n",
    "\\boldsymbol{k}_1 &= h \\cdot \\boldsymbol{f}(x + \\frac{1}{2} h, \\boldsymbol{y}(x + \\frac{1}{2} \\boldsymbol{k}_0))\n",
    "\\end{aligned}\n",
    "$$\n",
    "\n",
    "but then updates the value of $\\boldsymbol{y}$ according to\n",
    "\n",
    "$$\n",
    "\\boldsymbol{y}(x + h) \\approx \\boldsymbol{y}(x) + \\boldsymbol{k}_1\n",
    "$$\n",
    "\n",
    "Write a dedicated function `midpoint(f, y0, x0, x1, steps)` that applies the Midpoint method to compute $\\boldsymbol{y}(x_1)$ by integrating the differential equation $\\boldsymbol{y}' = \\boldsymbol{f}(x, \\boldsymbol{y})$ from initial condition $\\boldsymbol{y}(x_0) = \\boldsymbol{y}_0$ in a given number of steps.\n",
    "\n",
    "Apply your function to numerically integrate the first-order differential equation\n",
    "\n",
    "$$\n",
    "y'(x) = -\\frac{2}{3} x \\cdot y(x)\n",
    "$$\n",
    "\n",
    "from $x_0 = -2$ to $x_1 = +1$ with starting value $y(x_0) = 1$ in 1000 steps, and report the outcome.\n",
    "\n",
    "<div class=\"alert alert-info\">**Hint:**<br />The exact solution can be shown to equal $y(x_1) = \\text{e} \\approx 2.71828\\ldots$</div>"
   ]
  },
  {
   "cell_type": "code",
   "execution_count": 8,
   "metadata": {},
   "outputs": [],
   "source": [
    "def midpoint(f, y0, x0, x1, steps):\n",
    "    \"\"\"\n",
    "    c = [0, 1]\n",
    "    q = 1/2\n",
    "    \"\"\"\n",
    "    xs = np.linspace(x0, x1, steps+1)\n",
    "    h = (x1 - x0) / steps\n",
    "    y = y0\n",
    "    ys = [y]\n",
    "    \n",
    "    for x in xs[:-1]:\n",
    "        k0 = h*f(x, y)\n",
    "        k1 = h*f(x + h/2, y + k0/2)\n",
    "        \n",
    "        y = y + k1\n",
    "        \n",
    "        ys.append(y)\n",
    "        \n",
    "    return xs, ys"
   ]
  },
  {
   "cell_type": "code",
   "execution_count": 9,
   "metadata": {},
   "outputs": [
    {
     "name": "stdout",
     "output_type": "stream",
     "text": [
      "y(1) = 2.7183\n"
     ]
    }
   ],
   "source": [
    "f = lambda x, y: -2/3*x*y\n",
    "\n",
    "x0, x1, y0 = -2, 1, 1\n",
    "\n",
    "xs, ys = midpoint(f, y0, x0, x1, 1000)\n",
    "\n",
    "print('y(1) = {:.4f}'.format(ys[-1]))"
   ]
  },
  {
   "cell_type": "markdown",
   "metadata": {},
   "source": [
    "#### Question 1d\n",
    "\n",
    "Compute *all* zero roots of the function $g(x) = \\frac{1}{20} x^2 + \\sin(x)$, as plotted below. Report your answer(s) with an accuracy of (at least) six correct decimals. Explicitly investigate whether the function has any zeroes near $x=4\\frac{1}{4}$ (indicated with the plotted circle)."
   ]
  },
  {
   "cell_type": "code",
   "execution_count": 10,
   "metadata": {},
   "outputs": [
    {
     "data": {
      "image/png": "[encoded data removed]",
      "text/plain": [
       "<Figure size 432x288 with 1 Axes>"
      ]
     },
     "metadata": {
      "needs_background": "light"
     },
     "output_type": "display_data"
    }
   ],
   "source": [
    "g = lambda x: (x*x) / 20.0 + np.sin(x)\n",
    "xs = np.linspace(-8.0, 8.0, 401)\n",
    "plt.plot(xs, g(xs), '-', 4.25, 0.0, 'o')\n",
    "plt.axis([-8.0, 8.0, -2.0, 4.0]); plt.axhline(0.0, color='k', linewidth=.5); plt.axvline(0.0, color='k', linewidth=.5)\n",
    "plt.title('$g(x)$'); plt.xlabel('$x$'); plt.ylabel('$y$'); plt.show()"
   ]
  },
  {
   "cell_type": "code",
   "execution_count": 11,
   "metadata": {},
   "outputs": [],
   "source": [
    "def rootsearch(f, a, b, steps):\n",
    "    \"\"\"lo, hi = rootsearch(f, a, b, steps).\n",
    "    Searches the interval (a,b) in a number of steps for\n",
    "    the bounds (lo,hi) of the roots of f(x).\n",
    "    \"\"\"\n",
    "    h = (b - a) / steps # window width\n",
    "    f_lo = f(a) # first value\n",
    "    for step in range(steps):\n",
    "        lo = a + step * h # \n",
    "        hi = lo + h\n",
    "        f_hi = f(hi)\n",
    "        if f_lo * f_hi <= 0.0:\n",
    "            yield lo, hi\n",
    "        f_lo = f_hi\n",
    "        \n",
    "def secant(f, a, b, tol=1e-8):\n",
    "    x1 = a\n",
    "    x2 = b\n",
    "    \n",
    "    fx1 = f(a)\n",
    "    fx2 = f(b)\n",
    "    \n",
    "    while abs(x2 - x1) > tol:\n",
    "        x3 = x2 - fx2 * (x2 - x1) / (fx2 - fx1)\n",
    "        fx3 = f(x3)\n",
    "        \n",
    "        x1, x2 = x2, x3\n",
    "        fx1, fx2 = fx2, fx3\n",
    "        \n",
    "    return x2"
   ]
  },
  {
   "cell_type": "code",
   "execution_count": 12,
   "metadata": {},
   "outputs": [
    {
     "name": "stdout",
     "output_type": "stream",
     "text": [
      "Root found at x=-2.752947\n",
      "Root found at x=0.000000\n"
     ]
    }
   ],
   "source": [
    "g = lambda x: (x*x) / 20.0 + np.sin(x)\n",
    "\n",
    "xs = np.linspace(-8, 8, 401)\n",
    "\n",
    "roots = []\n",
    "for a, b in rootsearch(g, -8, 8, 1000):\n",
    "    root = secant(g, a, b, tol=1e-8)\n",
    "    roots.append(root)\n",
    "    print('Root found at x={:.6f}'.format(root))"
   ]
  },
  {
   "cell_type": "code",
   "execution_count": 13,
   "metadata": {},
   "outputs": [
    {
     "data": {
      "text/plain": [
       "-2.220446049250313e-16"
      ]
     },
     "execution_count": 13,
     "metadata": {},
     "output_type": "execute_result"
    }
   ],
   "source": [
    "g(roots[0])"
   ]
  },
  {
   "cell_type": "code",
   "execution_count": 14,
   "metadata": {},
   "outputs": [
    {
     "name": "stdout",
     "output_type": "stream",
     "text": [
      "The lowest value in a range between x=4 and x=4.5 is y=0.007913 at x=4.271250\n"
     ]
    }
   ],
   "source": [
    "# inspecting zeroes near x=4*1/4\n",
    "xs = np.linspace(4, 4.5, 401)\n",
    "ys = g(xs)\n",
    "\n",
    "minidx = ys.argmin()\n",
    "ymin = ys[minidx]\n",
    "xmin = xs[minidx]\n",
    "\n",
    "print('The lowest value in a range between x=4 and x=4.5 is y={:.6f} at x={:.6f}'.format(ymin, xmin))\n",
    "# This value is not 0, and therefore not a root, and there is no sign change\n",
    "# according to the visualisation"
   ]
  },
  {
   "cell_type": "markdown",
   "metadata": {},
   "source": [
    "***\n",
    "\n",
    "## Part III: Multivariate data analysis\n",
    "\n",
    "<small>Each question in this section is worth 10 points.</small>"
   ]
  },
  {
   "cell_type": "markdown",
   "metadata": {},
   "source": [
    "#### Question 3a\n",
    "\n",
    "Bla bla bla"
   ]
  },
  {
   "cell_type": "code",
   "execution_count": null,
   "metadata": {},
   "outputs": [],
   "source": []
  },
  {
   "cell_type": "markdown",
   "metadata": {},
   "source": [
    "***\n",
    "\n",
    "## End of this exam\n",
    "\n",
    "Success!"
   ]
  }
 ],
 "metadata": {
  "kernelspec": {
   "display_name": "Python 3 (ipykernel)",
   "language": "python",
   "name": "python3"
  },
  "language_info": {
   "codemirror_mode": {
    "name": "ipython",
    "version": 3
   },
   "file_extension": ".py",
   "mimetype": "text/x-python",
   "name": "python",
   "nbconvert_exporter": "python",
   "pygments_lexer": "ipython3",
   "version": "3.9.7"
  }
 },
 "nbformat": 4,
 "nbformat_minor": 2
}
